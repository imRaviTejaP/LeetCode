{
 "cells": [
  {
   "cell_type": "code",
   "execution_count": 19,
   "metadata": {},
   "outputs": [],
   "source": [
    "#Optimum solution that executes faster\n",
    "def strStr(haystack, needle):\n",
    "    a=haystack.find(needle)\n",
    "    return a"
   ]
  },
  {
   "cell_type": "code",
   "execution_count": 23,
   "metadata": {},
   "outputs": [
    {
     "name": "stdout",
     "output_type": "stream",
     "text": [
      "-1\n",
      "2\n",
      "-1\n",
      "0\n"
     ]
    }
   ],
   "source": [
    "haystack = \"aaaaa\"\n",
    "needle = \"bba\"\n",
    "print(strStr(haystack, needle))\n",
    "haystack = \"hello\"\n",
    "needle = \"ll\"\n",
    "print(strStr(haystack, needle))\n",
    "haystack = \"\"\n",
    "needle = \"ll\"\n",
    "print(strStr(haystack, needle))\n",
    "haystack = \"hello\"\n",
    "needle = \"\"\n",
    "print(strStr(haystack, needle))"
   ]
  },
  {
   "cell_type": "code",
   "execution_count": 21,
   "metadata": {},
   "outputs": [],
   "source": [
    "#My solution\n",
    "def strStr(haystack, needle):\n",
    "    if needle=='' or needle is None:\n",
    "        return 0\n",
    "    \n",
    "    if needle in haystack:\n",
    "        return haystack.index(needle)\n",
    "    else:\n",
    "        return -1"
   ]
  },
  {
   "cell_type": "code",
   "execution_count": 24,
   "metadata": {},
   "outputs": [
    {
     "name": "stdout",
     "output_type": "stream",
     "text": [
      "-1\n",
      "2\n",
      "-1\n",
      "0\n"
     ]
    }
   ],
   "source": [
    "haystack = \"aaaaa\"\n",
    "needle = \"bba\"\n",
    "print(strStr(haystack, needle))\n",
    "haystack = \"hello\"\n",
    "needle = \"ll\"\n",
    "print(strStr(haystack, needle))\n",
    "haystack = \"\"\n",
    "needle = \"ll\"\n",
    "print(strStr(haystack, needle))\n",
    "haystack = \"hello\"\n",
    "needle = \"\"\n",
    "print(strStr(haystack, needle))"
   ]
  }
 ],
 "metadata": {
  "kernelspec": {
   "display_name": "Python 3",
   "language": "python",
   "name": "python3"
  },
  "language_info": {
   "codemirror_mode": {
    "name": "ipython",
    "version": 3
   },
   "file_extension": ".py",
   "mimetype": "text/x-python",
   "name": "python",
   "nbconvert_exporter": "python",
   "pygments_lexer": "ipython3",
   "version": "3.7.1"
  }
 },
 "nbformat": 4,
 "nbformat_minor": 2
}
