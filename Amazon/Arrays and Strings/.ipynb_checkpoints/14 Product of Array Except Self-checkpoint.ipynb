{
 "cells": [
  {
   "cell_type": "code",
   "execution_count": 11,
   "metadata": {},
   "outputs": [],
   "source": [
    "#Best Solution\n",
    "def productExceptSelf(nums):\n",
    "    p = 1\n",
    "    n = len(nums)\n",
    "    output = []\n",
    "    for i in range(0,n):\n",
    "        output.append(p)\n",
    "        p = p * nums[i]\n",
    "    p = 1\n",
    "    for i in range(n-1,-1,-1):\n",
    "        output[i] = output[i] * p\n",
    "        p = p * nums[i]\n",
    "    return output"
   ]
  },
  {
   "cell_type": "code",
   "execution_count": 12,
   "metadata": {},
   "outputs": [
    {
     "name": "stdout",
     "output_type": "stream",
     "text": [
      "[24, 12, 8, 6]\n"
     ]
    }
   ],
   "source": [
    "nums = [1, 2, 3, 4]\n",
    "print(productExceptSelf(nums))"
   ]
  },
  {
   "cell_type": "code",
   "execution_count": 13,
   "metadata": {},
   "outputs": [],
   "source": [
    "def productExceptSelf(nums):\n",
    "    numsLen = len(nums)\n",
    "    productWithoutSelf = [1] * numsLen\n",
    "\n",
    "    # productWithoutSelf[i] as product of elements to the left of nums[i].\n",
    "    for i in range(1, numsLen):\n",
    "        productWithoutSelf[i] = productWithoutSelf[i - 1] * nums[i - 1]\n",
    "\n",
    "    # productWithoutSelf[i] multiply product of elements to the right of nums[i].\n",
    "    rightProduct = 1\n",
    "    for i in range(numsLen - 1, -1, -1):\n",
    "        productWithoutSelf[i] *= rightProduct\n",
    "        rightProduct = rightProduct * nums[i]\n",
    "\n",
    "    return productWithoutSelf"
   ]
  },
  {
   "cell_type": "code",
   "execution_count": 14,
   "metadata": {},
   "outputs": [
    {
     "name": "stdout",
     "output_type": "stream",
     "text": [
      "[24, 12, 8, 6]\n"
     ]
    }
   ],
   "source": [
    "nums = [1, 2, 3, 4]\n",
    "print(productExceptSelf(nums))"
   ]
  }
 ],
 "metadata": {
  "kernelspec": {
   "display_name": "Python 3",
   "language": "python",
   "name": "python3"
  },
  "language_info": {
   "codemirror_mode": {
    "name": "ipython",
    "version": 3
   },
   "file_extension": ".py",
   "mimetype": "text/x-python",
   "name": "python",
   "nbconvert_exporter": "python",
   "pygments_lexer": "ipython3",
   "version": "3.7.1"
  }
 },
 "nbformat": 4,
 "nbformat_minor": 2
}
