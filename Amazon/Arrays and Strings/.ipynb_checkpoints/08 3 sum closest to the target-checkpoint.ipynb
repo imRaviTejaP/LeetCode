{
 "cells": [
  {
   "cell_type": "code",
   "execution_count": 21,
   "metadata": {},
   "outputs": [],
   "source": [
    "#Optimum solution with complexity O(n^2)\n",
    "def threeSumClosest(nums, target):\n",
    "    nums.sort()\n",
    "    length = len(nums)\n",
    "    res = sum(nums[:3])\n",
    "    for i in range(length-2):\n",
    "        if i>0 and nums[i]==nums[i-1]:\n",
    "            continue\n",
    "        l, r = i+1, length-1\n",
    "        while l<r:\n",
    "            s = nums[i] + nums[l] + nums[r]\n",
    "            if s == target:\n",
    "                return res\n",
    "            elif s < target:\n",
    "                l += 1\n",
    "            else:\n",
    "                r -= 1\n",
    "            if abs(s - target) < abs(res - target):\n",
    "                res = s\n",
    "            \n",
    "    return res"
   ]
  },
  {
   "cell_type": "code",
   "execution_count": 22,
   "metadata": {},
   "outputs": [
    {
     "data": {
      "text/plain": [
       "2"
      ]
     },
     "execution_count": 22,
     "metadata": {},
     "output_type": "execute_result"
    }
   ],
   "source": [
    "threeSumClosest([-1, 2, 1, -4], 1)"
   ]
  }
 ],
 "metadata": {
  "kernelspec": {
   "display_name": "Python 3",
   "language": "python",
   "name": "python3"
  },
  "language_info": {
   "codemirror_mode": {
    "name": "ipython",
    "version": 3
   },
   "file_extension": ".py",
   "mimetype": "text/x-python",
   "name": "python",
   "nbconvert_exporter": "python",
   "pygments_lexer": "ipython3",
   "version": "3.7.1"
  }
 },
 "nbformat": 4,
 "nbformat_minor": 2
}
