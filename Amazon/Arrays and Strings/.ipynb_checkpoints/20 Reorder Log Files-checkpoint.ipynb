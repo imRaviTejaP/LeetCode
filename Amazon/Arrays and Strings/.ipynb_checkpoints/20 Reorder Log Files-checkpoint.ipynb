{
 "cells": [
  {
   "cell_type": "code",
   "execution_count": 1,
   "metadata": {},
   "outputs": [],
   "source": [
    "def reorderLogFiles(logs):\n",
    "    digit = []\n",
    "    letter = []\n",
    "# divide logs into two parts, one is digit logs, the other is letter logs\n",
    "    for log in logs:\n",
    "        if log.split()[1].isdigit():\n",
    "            digit.append(log)\n",
    "        else:\n",
    "            letter.append(log)\n",
    "    letter.sort(key = lambda x: x.split()[0])            #when suffix is tie, sort by identifier\n",
    "    letter.sort(key = lambda x: x.split()[1:])           #sort by suffix\n",
    "    result = letter + digit                            #put digit logs after letter logs\n",
    "    return result"
   ]
  },
  {
   "cell_type": "code",
   "execution_count": 2,
   "metadata": {},
   "outputs": [
    {
     "name": "stdout",
     "output_type": "stream",
     "text": [
      "['g1 act car', 'a8 act zoo', 'ab1 off key dog', 'a1 9 2 3 1', 'zo4 4 7']\n"
     ]
    }
   ],
   "source": [
    "logs = [\"a1 9 2 3 1\",\"g1 act car\",\"zo4 4 7\",\"ab1 off key dog\",\"a8 act zoo\"]\n",
    "print(reorderLogFiles(logs))"
   ]
  }
 ],
 "metadata": {
  "kernelspec": {
   "display_name": "Python 3",
   "language": "python",
   "name": "python3"
  },
  "language_info": {
   "codemirror_mode": {
    "name": "ipython",
    "version": 3
   },
   "file_extension": ".py",
   "mimetype": "text/x-python",
   "name": "python",
   "nbconvert_exporter": "python",
   "pygments_lexer": "ipython3",
   "version": "3.7.1"
  }
 },
 "nbformat": 4,
 "nbformat_minor": 2
}
