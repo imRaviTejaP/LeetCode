{
 "cells": [
  {
   "cell_type": "code",
   "execution_count": 56,
   "metadata": {},
   "outputs": [],
   "source": [
    "def mostCommonWord(paragraph, banned):\n",
    "    import operator\n",
    "    dct = {}\n",
    "    paragraph = paragraph.replace(',',' ')\n",
    "    paragraph = paragraph.replace('.','')\n",
    "    paragraph = paragraph.replace('!','')\n",
    "    paragraph = paragraph.replace('?','')\n",
    "    paragraph = paragraph.replace(';','')\n",
    "    paragraph = paragraph.replace(\"'\",'')\n",
    "\n",
    "    words = paragraph.lower().split()\n",
    "\n",
    "    for i in words:\n",
    "        if i not in banned:\n",
    "            if i in dct:\n",
    "                dct[i] = dct[i] + 1\n",
    "            else:\n",
    "                dct[i] = 1\n",
    "    return max(dct.items(), key=operator.itemgetter(1))[0]"
   ]
  },
  {
   "cell_type": "code",
   "execution_count": 57,
   "metadata": {},
   "outputs": [
    {
     "name": "stdout",
     "output_type": "stream",
     "text": [
      "ball\n"
     ]
    }
   ],
   "source": [
    "paragraph = \"Bob thit a ball, the hit BALL flew far after it was hit.\"\n",
    "banned = [\"hit\"]\n",
    "print(mostCommonWord(paragraph, banned))"
   ]
  },
  {
   "cell_type": "code",
   "execution_count": 38,
   "metadata": {},
   "outputs": [],
   "source": [
    "def mostCommonWord(paragraph, banned):\n",
    "    ban = set(banned)\n",
    "    words = re.findall(r'\\w+', p.lower())\n",
    "    return collections.Counter(w for w in words if w not in ban).most_common(1)[0][0]"
   ]
  },
  {
   "cell_type": "code",
   "execution_count": 40,
   "metadata": {},
   "outputs": [
    {
     "name": "stdout",
     "output_type": "stream",
     "text": [
      "ball\n"
     ]
    }
   ],
   "source": [
    "paragraph = \"Bob thit a ball, the hit BALL flew far after it was hit.\"\n",
    "banned = [\"hit\"]\n",
    "print(mostCommonWord(paragraph, banned))"
   ]
  },
  {
   "cell_type": "code",
   "execution_count": 58,
   "metadata": {},
   "outputs": [],
   "source": [
    "def mostCommonWord(paragraph, banned):\n",
    "    banset = set(banned)\n",
    "    import re\n",
    "    paragraph = re.sub(r\"[!?',;.]\", \" \", paragraph)\n",
    "    count = collections.Counter(paragraph.lower().split())\n",
    "    ans, best = '', 0\n",
    "    for word in count:\n",
    "        if count[word] > best and word not in banset:\n",
    "            ans, best = word, count[word]\n",
    "\n",
    "    return ans"
   ]
  },
  {
   "cell_type": "code",
   "execution_count": 59,
   "metadata": {},
   "outputs": [
    {
     "data": {
      "text/plain": [
       "'ball'"
      ]
     },
     "execution_count": 59,
     "metadata": {},
     "output_type": "execute_result"
    }
   ],
   "source": [
    "paragraph = \"Bob thit a ball?, the hit BALL flew far after it was hit.\"\n",
    "banned = [\"hit\"]\n",
    "mostCommonWord(paragraph, banned)"
   ]
  }
 ],
 "metadata": {
  "kernelspec": {
   "display_name": "Python 3",
   "language": "python",
   "name": "python3"
  },
  "language_info": {
   "codemirror_mode": {
    "name": "ipython",
    "version": 3
   },
   "file_extension": ".py",
   "mimetype": "text/x-python",
   "name": "python",
   "nbconvert_exporter": "python",
   "pygments_lexer": "ipython3",
   "version": "3.7.1"
  }
 },
 "nbformat": 4,
 "nbformat_minor": 2
}
