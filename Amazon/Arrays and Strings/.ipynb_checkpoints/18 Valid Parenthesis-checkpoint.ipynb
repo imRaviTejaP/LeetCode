{
 "cells": [
  {
   "cell_type": "code",
   "execution_count": 6,
   "metadata": {},
   "outputs": [],
   "source": [
    "def isValid(s):\n",
    "    stack = list()\n",
    "    parent_map = {')': '(', ']': '[', '}': '{'}\n",
    "    for ch in s:\n",
    "        if ch not in parent_map:\n",
    "            stack.append(ch)\n",
    "        elif not stack or parent_map[ch] != stack.pop():\n",
    "            return False\n",
    "    return not stack"
   ]
  },
  {
   "cell_type": "code",
   "execution_count": 7,
   "metadata": {},
   "outputs": [
    {
     "name": "stdout",
     "output_type": "stream",
     "text": [
      "True\n"
     ]
    }
   ],
   "source": [
    "s = '()[]{}'\n",
    "print(isValid(s))"
   ]
  },
  {
   "cell_type": "code",
   "execution_count": 8,
   "metadata": {},
   "outputs": [],
   "source": [
    "#Best solution\n",
    "def isValid(s):\n",
    "    stack = []\n",
    "    mapping = {\")\": \"(\", \"}\": \"{\", \"]\": \"[\"}\n",
    "    \n",
    "    for char in s:\n",
    "        if char in mapping:\n",
    "            top_element = stack.pop() if stack else '#'\n",
    "            if mapping[char] != top_element:\n",
    "                return False\n",
    "        else:\n",
    "            stack.append(char)\n",
    "            \n",
    "    return not stack"
   ]
  },
  {
   "cell_type": "code",
   "execution_count": 9,
   "metadata": {},
   "outputs": [
    {
     "name": "stdout",
     "output_type": "stream",
     "text": [
      "True\n"
     ]
    }
   ],
   "source": [
    "s = '()[]{}'\n",
    "print(isValid(s))"
   ]
  }
 ],
 "metadata": {
  "kernelspec": {
   "display_name": "Python 3",
   "language": "python",
   "name": "python3"
  },
  "language_info": {
   "codemirror_mode": {
    "name": "ipython",
    "version": 3
   },
   "file_extension": ".py",
   "mimetype": "text/x-python",
   "name": "python",
   "nbconvert_exporter": "python",
   "pygments_lexer": "ipython3",
   "version": "3.7.1"
  }
 },
 "nbformat": 4,
 "nbformat_minor": 2
}
