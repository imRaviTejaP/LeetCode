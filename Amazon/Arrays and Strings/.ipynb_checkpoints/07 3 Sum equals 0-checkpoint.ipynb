{
 "cells": [
  {
   "cell_type": "code",
   "execution_count": 43,
   "metadata": {},
   "outputs": [],
   "source": [
    "#Optimum solution with order of \n",
    "def threeSum(nums):\n",
    "    res = []\n",
    "    nums.sort()\n",
    "    length = len(nums)\n",
    "    for i in range(length-2):\n",
    "        if nums[i]>0: \n",
    "            break\n",
    "        if i>0 and nums[i]==nums[i-1]:\n",
    "            continue\n",
    "\n",
    "        l, r = i+1, length-1\n",
    "        while l<r:\n",
    "            total = nums[i]+nums[l]+nums[r]\n",
    "\n",
    "            if total<0:\n",
    "                l+=1\n",
    "            elif total>0:\n",
    "                r-=1\n",
    "            else:\n",
    "                res.append([nums[i], nums[l], nums[r]])\n",
    "                while l<r and nums[l]==nums[l+1]: #[6]\n",
    "                    l+=1\n",
    "                while l<r and nums[r]==nums[r-1]: #[6]\n",
    "                    r-=1\n",
    "                l+=1\n",
    "                r-=1\n",
    "    return res"
   ]
  },
  {
   "cell_type": "code",
   "execution_count": 44,
   "metadata": {},
   "outputs": [
    {
     "data": {
      "text/plain": [
       "[[-1, -1, 2], [-1, 0, 1]]"
      ]
     },
     "execution_count": 44,
     "metadata": {},
     "output_type": "execute_result"
    }
   ],
   "source": [
    "nums = [-1, 0, 1, 2, -1, -4]\n",
    "threeSum(nums)"
   ]
  },
  {
   "cell_type": "code",
   "execution_count": 45,
   "metadata": {},
   "outputs": [],
   "source": [
    "#Optimum solution 2\n",
    "def threeSum(nums):\n",
    "    ans = set([])\n",
    "    plus = sorted([n for n in nums if n>0])\n",
    "    plus_c = set(plus)\n",
    "    zero = [n for n in nums if n == 0]\n",
    "    minus = sorted([n for n in nums if n<0])\n",
    "    minus_c = set(minus)\n",
    "    # all zero\n",
    "    if len(zero)>2:\n",
    "        ans.add((0,0,0))\n",
    "    # plus zero minus\n",
    "    if len(zero)>0:\n",
    "        for n in minus:\n",
    "            if -n in plus_c:\n",
    "                ans.add((n,0,-n))\n",
    "    # plus minus minus\n",
    "    n = len(minus)\n",
    "    for i in range(n):\n",
    "        for j in range(i+1,n):\n",
    "            diff = -(minus[i]+minus[j])\n",
    "            if diff in plus_c:\n",
    "                ans.add((minus[i],minus[j],diff))\n",
    "    # plus plus minus\n",
    "    n = len(plus)\n",
    "    for i in range(n):\n",
    "        for j in range(i+1,n):\n",
    "            diff = -(plus[i]+plus[j])\n",
    "            if diff in minus_c:\n",
    "                ans.add((diff,plus[i],plus[j]))\n",
    "    return list(ans)"
   ]
  },
  {
   "cell_type": "code",
   "execution_count": 46,
   "metadata": {},
   "outputs": [
    {
     "data": {
      "text/plain": [
       "[(-1, -1, 2), (-1, 0, 1)]"
      ]
     },
     "execution_count": 46,
     "metadata": {},
     "output_type": "execute_result"
    }
   ],
   "source": [
    "nums = [-1, 0, 1, 2, -1, -4]\n",
    "threeSum(nums)"
   ]
  },
  {
   "cell_type": "code",
   "execution_count": 47,
   "metadata": {},
   "outputs": [],
   "source": [
    "#Our solution is O(N^3) worst possible complexity\n",
    "def threeSum(nums):\n",
    "    out = []\n",
    "    l = len(nums)\n",
    "    for i in range(l):\n",
    "        for j in range(i+1, l):\n",
    "            for k in range(j+1, l):\n",
    "                if nums[i] + nums[j] + nums[k] == 0:\n",
    "                    temp = sorted([nums[i], nums[j], nums[k]])\n",
    "                    if temp not in out:\n",
    "                        out.append(temp)\n",
    "    \n",
    "    return out"
   ]
  },
  {
   "cell_type": "code",
   "execution_count": 48,
   "metadata": {},
   "outputs": [
    {
     "data": {
      "text/plain": [
       "[[-1, 0, 1], [-1, -1, 2]]"
      ]
     },
     "execution_count": 48,
     "metadata": {},
     "output_type": "execute_result"
    }
   ],
   "source": [
    "nums = [-1, 0, 1, 2, -1, -4]\n",
    "threeSum(nums)"
   ]
  }
 ],
 "metadata": {
  "kernelspec": {
   "display_name": "Python 3",
   "language": "python",
   "name": "python3"
  },
  "language_info": {
   "codemirror_mode": {
    "name": "ipython",
    "version": 3
   },
   "file_extension": ".py",
   "mimetype": "text/x-python",
   "name": "python",
   "nbconvert_exporter": "python",
   "pygments_lexer": "ipython3",
   "version": "3.7.1"
  }
 },
 "nbformat": 4,
 "nbformat_minor": 2
}
