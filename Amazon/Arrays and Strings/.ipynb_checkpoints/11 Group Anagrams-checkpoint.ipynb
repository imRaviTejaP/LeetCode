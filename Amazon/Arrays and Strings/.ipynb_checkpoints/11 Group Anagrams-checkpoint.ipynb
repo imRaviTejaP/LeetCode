{
 "cells": [
  {
   "cell_type": "code",
   "execution_count": 42,
   "metadata": {},
   "outputs": [],
   "source": [
    "#optimized Solution\n",
    "def groupAnagrams(strs):\n",
    "    import collections\n",
    "    d = collections.defaultdict(list)\n",
    "    for s in strs:\n",
    "        d[''.join(sorted(s))].append(s)\n",
    "    return list(d.values())"
   ]
  },
  {
   "cell_type": "code",
   "execution_count": 43,
   "metadata": {},
   "outputs": [
    {
     "name": "stdout",
     "output_type": "stream",
     "text": [
      "[['eat', 'tea', 'ate'], ['tan', 'nat'], ['bat']]\n"
     ]
    }
   ],
   "source": [
    "strs = [\"eat\", \"tea\", \"tan\", \"ate\", \"nat\", \"bat\"]\n",
    "print(groupAnagrams(strs))"
   ]
  },
  {
   "cell_type": "code",
   "execution_count": 45,
   "metadata": {},
   "outputs": [],
   "source": [
    "#My solution\n",
    "def groupAnagrams(strs):\n",
    "    d = {}\n",
    "    for i in strs:\n",
    "        s = ''.join(sorted(i))\n",
    "        if s not in d:\n",
    "            d[s] = [i]\n",
    "        else:\n",
    "            d[s].append(i)\n",
    "#             d[s] += [i]\n",
    "\n",
    "    return list(d.values())"
   ]
  },
  {
   "cell_type": "code",
   "execution_count": 46,
   "metadata": {},
   "outputs": [
    {
     "name": "stdout",
     "output_type": "stream",
     "text": [
      "[['eat', 'tea', 'ate'], ['tan', 'nat'], ['bat']]\n"
     ]
    }
   ],
   "source": [
    "strs = [\"eat\", \"tea\", \"tan\", \"ate\", \"nat\", \"bat\"]\n",
    "print(groupAnagrams(strs))"
   ]
  }
 ],
 "metadata": {
  "kernelspec": {
   "display_name": "Python 3",
   "language": "python",
   "name": "python3"
  },
  "language_info": {
   "codemirror_mode": {
    "name": "ipython",
    "version": 3
   },
   "file_extension": ".py",
   "mimetype": "text/x-python",
   "name": "python",
   "nbconvert_exporter": "python",
   "pygments_lexer": "ipython3",
   "version": "3.7.1"
  }
 },
 "nbformat": 4,
 "nbformat_minor": 2
}
