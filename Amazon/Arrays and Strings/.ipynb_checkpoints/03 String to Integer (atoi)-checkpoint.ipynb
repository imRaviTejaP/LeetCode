{
 "cells": [
  {
   "cell_type": "code",
   "execution_count": 53,
   "metadata": {},
   "outputs": [
    {
     "name": "stdout",
     "output_type": "stream",
     "text": [
      "<class 'str'>\n",
      "-91283472332\n"
     ]
    }
   ],
   "source": [
    "s = '-91283472332'\n",
    "print(type(s))\n",
    "print(int(s))"
   ]
  },
  {
   "cell_type": "code",
   "execution_count": 5,
   "metadata": {},
   "outputs": [
    {
     "data": {
      "text/plain": [
       "2147483647"
      ]
     },
     "execution_count": 5,
     "metadata": {},
     "output_type": "execute_result"
    }
   ],
   "source": [
    "2**31 - 1"
   ]
  },
  {
   "cell_type": "code",
   "execution_count": 3,
   "metadata": {},
   "outputs": [
    {
     "data": {
      "text/plain": [
       "-2147483648"
      ]
     },
     "execution_count": 3,
     "metadata": {},
     "output_type": "execute_result"
    }
   ],
   "source": [
    "-2**31"
   ]
  },
  {
   "cell_type": "code",
   "execution_count": 97,
   "metadata": {},
   "outputs": [],
   "source": [
    "def myAtoi(s):\n",
    "    INT_MAX = 2**31 - 1\n",
    "    INT_MIN = -2**31\n",
    "    length = len(s)\n",
    "    sign = ''\n",
    "    i = 0\n",
    "    while(s[i]==' '):\n",
    "        i += 1\n",
    "        \n",
    "    if s[i] == '+' or s[i] == '-':\n",
    "        sign = s[i]\n",
    "        i += 1\n",
    "        \n",
    "    start = i\n",
    "    while(i < length and s[i] in ['0', '1', '2', '3', '4', '5', '6', '7', '8', '9']):\n",
    "        i += 1\n",
    "    \n",
    "    if start != i:\n",
    "        out = int(sign + s[start:i])\n",
    "        if out < INT_MIN:\n",
    "            return INT_MIN\n",
    "        elif out > INT_MAX:\n",
    "            return INT_MAX\n",
    "        else:\n",
    "            return out\n",
    "    else:\n",
    "        return 0"
   ]
  },
  {
   "cell_type": "code",
   "execution_count": 98,
   "metadata": {},
   "outputs": [
    {
     "name": "stdout",
     "output_type": "stream",
     "text": [
      "1234\n",
      "-1234\n",
      "1234\n",
      "1234\n",
      "----------------\n",
      "123\n",
      "-123\n",
      "123\n",
      "----------------\n",
      "12\n",
      "12\n",
      "-12\n",
      "-12\n",
      "----------------\n",
      "1\n",
      "1\n",
      "-1\n",
      "1\n",
      "----------------\n",
      "12345\n",
      "12345\n",
      "-12345\n",
      "-12345\n",
      "----------------\n",
      "0\n",
      "0\n",
      "0\n",
      "0\n"
     ]
    }
   ],
   "source": [
    "myAtoi('-91283472332')\n",
    "print(myAtoi('1234abcdefe'))\n",
    "print(myAtoi('-1234abcdefe'))\n",
    "print(myAtoi('+1234abcdefe'))\n",
    "print(myAtoi('   1234abcdefe  '))\n",
    "print('----------------')\n",
    "print(myAtoi('+123abcdefe'))\n",
    "print(myAtoi('-123abcdefe'))\n",
    "print(myAtoi('   123abcdefe'))\n",
    "print('----------------')\n",
    "print(myAtoi('12abcdefe'))\n",
    "print(myAtoi('+12abcdefe'))\n",
    "print(myAtoi('-12abcdefe'))\n",
    "print(myAtoi('   -12abcdefe'))\n",
    "print('----------------')\n",
    "print(myAtoi('1abcdefe'))\n",
    "print(myAtoi('+1abcdefe'))\n",
    "print(myAtoi('-1abcdefe'))\n",
    "print(myAtoi('    +1abcdefe'))\n",
    "print('----------------')\n",
    "print(myAtoi('12345abcdefe'))\n",
    "print(myAtoi('+12345abcdefe'))\n",
    "print(myAtoi('-12345abcdefe'))\n",
    "print(myAtoi('    -12345abcdefe'))\n",
    "print('----------------')\n",
    "print(myAtoi('abcdefe'))\n",
    "print(myAtoi('-abcdefe'))\n",
    "print(myAtoi(' -abcdefe'))\n",
    "print(myAtoi(' +abcdefe'))\n"
   ]
  },
  {
   "cell_type": "code",
   "execution_count": 85,
   "metadata": {},
   "outputs": [],
   "source": [
    "import re\n",
    "a = re.match(r'-\\d{2,4}', '-1234abcdefe')\n",
    "b = re.match(r'-\\d{2,4}', '-123abcdefe')\n",
    "c = re.match(r'-\\d{2,4}', '-12abcdefe')\n",
    "d = re.match(r'-\\d{2,4}', '-1abcdefe')\n",
    "e = re.match(r'-\\d{2,4}', '-12345abcdefe')"
   ]
  },
  {
   "cell_type": "code",
   "execution_count": 87,
   "metadata": {},
   "outputs": [
    {
     "name": "stdout",
     "output_type": "stream",
     "text": [
      "<re.Match object; span=(0, 5), match='-1234'>\n",
      "<re.Match object; span=(0, 4), match='-123'>\n",
      "<re.Match object; span=(0, 3), match='-12'>\n",
      "None\n",
      "<re.Match object; span=(0, 5), match='-1234'>\n"
     ]
    }
   ],
   "source": [
    "print(a, b, c, d, e, sep='\\n')"
   ]
  },
  {
   "cell_type": "code",
   "execution_count": 77,
   "metadata": {},
   "outputs": [
    {
     "ename": "AttributeError",
     "evalue": "'NoneType' object has no attribute 'group'",
     "output_type": "error",
     "traceback": [
      "\u001b[0;31m---------------------------------------------------------------------------\u001b[0m",
      "\u001b[0;31mAttributeError\u001b[0m                            Traceback (most recent call last)",
      "\u001b[0;32m<ipython-input-77-567322dbc5b9>\u001b[0m in \u001b[0;36m<module>\u001b[0;34m\u001b[0m\n\u001b[0;32m----> 1\u001b[0;31m \u001b[0ma\u001b[0m\u001b[0;34m.\u001b[0m\u001b[0mgroup\u001b[0m\u001b[0;34m(\u001b[0m\u001b[0;34m)\u001b[0m\u001b[0;34m\u001b[0m\u001b[0;34m\u001b[0m\u001b[0m\n\u001b[0m",
      "\u001b[0;31mAttributeError\u001b[0m: 'NoneType' object has no attribute 'group'"
     ]
    }
   ],
   "source": [
    "a.group()"
   ]
  },
  {
   "cell_type": "code",
   "execution_count": 60,
   "metadata": {},
   "outputs": [
    {
     "data": {
      "text/plain": [
       "0"
      ]
     },
     "execution_count": 60,
     "metadata": {},
     "output_type": "execute_result"
    }
   ],
   "source": [
    "a.start()"
   ]
  },
  {
   "cell_type": "code",
   "execution_count": 62,
   "metadata": {},
   "outputs": [
    {
     "data": {
      "text/plain": [
       "5"
      ]
     },
     "execution_count": 62,
     "metadata": {},
     "output_type": "execute_result"
    }
   ],
   "source": [
    "a.end()"
   ]
  },
  {
   "cell_type": "code",
   "execution_count": 64,
   "metadata": {},
   "outputs": [
    {
     "data": {
      "text/plain": [
       "(0, 5)"
      ]
     },
     "execution_count": 64,
     "metadata": {},
     "output_type": "execute_result"
    }
   ],
   "source": [
    "a.span()"
   ]
  },
  {
   "cell_type": "code",
   "execution_count": 52,
   "metadata": {},
   "outputs": [
    {
     "ename": "SyntaxError",
     "evalue": "invalid syntax (<ipython-input-52-406fe010004c>, line 15)",
     "output_type": "error",
     "traceback": [
      "\u001b[0;36m  File \u001b[0;32m\"<ipython-input-52-406fe010004c>\"\u001b[0;36m, line \u001b[0;32m15\u001b[0m\n\u001b[0;31m    retun 0\u001b[0m\n\u001b[0m          ^\u001b[0m\n\u001b[0;31mSyntaxError\u001b[0m\u001b[0;31m:\u001b[0m invalid syntax\n"
     ]
    }
   ],
   "source": [
    "def myAtoi(s):\n",
    "    import re\n",
    "    INT_MAX = 2**31 - 1\n",
    "    INT_MIN = -2**31\n",
    "    m = re.match(r'[-+]?\\d+', str.strip())\n",
    "    if m:\n",
    "        i = int(m.group())\n",
    "        if i < INT_MIN:\n",
    "            return INT_MIN\n",
    "        elif i > INT_MAX:\n",
    "            return INT_MAX\n",
    "        else:\n",
    "            return i\n",
    "    else:\n",
    "        return 0"
   ]
  },
  {
   "cell_type": "code",
   "execution_count": 99,
   "metadata": {},
   "outputs": [
    {
     "ename": "ValueError",
     "evalue": "invalid literal for int() with base 10: '-a'",
     "output_type": "error",
     "traceback": [
      "\u001b[0;31m---------------------------------------------------------------------------\u001b[0m",
      "\u001b[0;31mValueError\u001b[0m                                Traceback (most recent call last)",
      "\u001b[0;32m<ipython-input-99-47e20150a576>\u001b[0m in \u001b[0;36m<module>\u001b[0;34m\u001b[0m\n\u001b[0;32m----> 1\u001b[0;31m \u001b[0mint\u001b[0m\u001b[0;34m(\u001b[0m\u001b[0;34m'-a'\u001b[0m\u001b[0;34m)\u001b[0m\u001b[0;34m\u001b[0m\u001b[0;34m\u001b[0m\u001b[0m\n\u001b[0m",
      "\u001b[0;31mValueError\u001b[0m: invalid literal for int() with base 10: '-a'"
     ]
    }
   ],
   "source": [
    "int('-a')"
   ]
  },
  {
   "cell_type": "code",
   "execution_count": null,
   "metadata": {},
   "outputs": [],
   "source": []
  }
 ],
 "metadata": {
  "kernelspec": {
   "display_name": "Python 3",
   "language": "python",
   "name": "python3"
  },
  "language_info": {
   "codemirror_mode": {
    "name": "ipython",
    "version": 3
   },
   "file_extension": ".py",
   "mimetype": "text/x-python",
   "name": "python",
   "nbconvert_exporter": "python",
   "pygments_lexer": "ipython3",
   "version": "3.7.1"
  }
 },
 "nbformat": 4,
 "nbformat_minor": 2
}
