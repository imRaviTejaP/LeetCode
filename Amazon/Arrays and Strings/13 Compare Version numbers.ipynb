{
 "cells": [
  {
   "cell_type": "code",
   "execution_count": 21,
   "metadata": {},
   "outputs": [],
   "source": [
    "#Optimum Solution for time\n",
    "def compareVersion(version1, version2):\n",
    "    a = version1.split('.')\n",
    "    b = version2.split('.')\n",
    "\n",
    "    while(a and b):\n",
    "        if int(a[0]) < int(b[0]):\n",
    "            return -1\n",
    "        elif int(a[0]) > int(b[0]):\n",
    "            return 1\n",
    "        else:\n",
    "            a.pop(0)\n",
    "            b.pop(0)\n",
    "\n",
    "    if a and sum([int(i) for i in a]) != 0:\n",
    "        return 1\n",
    "    if b and sum([int(i) for i in b]) != 0:\n",
    "        return -1\n",
    "    return 0"
   ]
  },
  {
   "cell_type": "code",
   "execution_count": 22,
   "metadata": {},
   "outputs": [
    {
     "name": "stdout",
     "output_type": "stream",
     "text": [
      "-1\n",
      "1\n",
      "-1\n",
      "0\n",
      "0\n"
     ]
    }
   ],
   "source": [
    "version1, version2 = \"0.1\", \"1.1\"\n",
    "print(compareVersion(version1, version2))\n",
    "version1, version2 = \"1.0.1\", \"1\"\n",
    "print(compareVersion(version1, version2))\n",
    "version1, version2 = \"7.5.2.4\", \"7.5.3\"\n",
    "print(compareVersion(version1, version2))\n",
    "version1, version2 = \"1.01\", \"1.001\"\n",
    "print(compareVersion(version1, version2))\n",
    "version1, version2 = \"1.0\", \"1.0.0\"\n",
    "print(compareVersion(version1, version2))"
   ]
  },
  {
   "cell_type": "code",
   "execution_count": 23,
   "metadata": {},
   "outputs": [],
   "source": [
    "#My solution optimum for space\n",
    "def compareVersion(version1, version2):\n",
    "    v1 = version1.split('.')\n",
    "    v2 = version2.split('.')\n",
    "    l1 = len(v1)\n",
    "    l2 = len(v2)\n",
    "    i = 0\n",
    "    if l1<=l2:\n",
    "        l = l2\n",
    "        v1.extend(['0']*(l2-l1))\n",
    "    else:\n",
    "        l = l1\n",
    "        v2.extend(['0']*(l1-l2))\n",
    "\n",
    "    while(i<l):\n",
    "        if int(v1[i]) > int(v2[i]):\n",
    "               return 1\n",
    "        elif int(v1[i]) < int(v2[i]):\n",
    "               return -1\n",
    "        else:\n",
    "               i += 1\n",
    "\n",
    "    return 0"
   ]
  },
  {
   "cell_type": "code",
   "execution_count": 24,
   "metadata": {},
   "outputs": [
    {
     "name": "stdout",
     "output_type": "stream",
     "text": [
      "-1\n",
      "1\n",
      "-1\n",
      "0\n",
      "0\n"
     ]
    }
   ],
   "source": [
    "version1, version2 = \"0.1\", \"1.1\"\n",
    "print(compareVersion(version1, version2))\n",
    "version1, version2 = \"1.0.1\", \"1\"\n",
    "print(compareVersion(version1, version2))\n",
    "version1, version2 = \"7.5.2.4\", \"7.5.3\"\n",
    "print(compareVersion(version1, version2))\n",
    "version1, version2 = \"1.01\", \"1.001\"\n",
    "print(compareVersion(version1, version2))\n",
    "version1, version2 = \"1.0\", \"1.0.0\"\n",
    "print(compareVersion(version1, version2))"
   ]
  }
 ],
 "metadata": {
  "kernelspec": {
   "display_name": "Python 3",
   "language": "python",
   "name": "python3"
  },
  "language_info": {
   "codemirror_mode": {
    "name": "ipython",
    "version": 3
   },
   "file_extension": ".py",
   "mimetype": "text/x-python",
   "name": "python",
   "nbconvert_exporter": "python",
   "pygments_lexer": "ipython3",
   "version": "3.7.1"
  }
 },
 "nbformat": 4,
 "nbformat_minor": 2
}
