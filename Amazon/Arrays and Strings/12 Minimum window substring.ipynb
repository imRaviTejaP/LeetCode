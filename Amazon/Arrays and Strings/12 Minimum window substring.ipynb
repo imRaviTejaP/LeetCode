{
 "cells": [
  {
   "cell_type": "code",
   "execution_count": 54,
   "metadata": {},
   "outputs": [],
   "source": [
    "#Optimum Solution\n",
    "from collections import defaultdict\n",
    "def minWindow(s, t):\n",
    "    mem = defaultdict(int)\n",
    "    for c in t:\n",
    "        mem[c] += 1\n",
    "    t_len = len(t)\n",
    "\n",
    "    minL, minR = 0, float('inf')\n",
    "\n",
    "    l = 0\n",
    "\n",
    "    for i, c in enumerate(s):\n",
    "        if mem[c] > 0:\n",
    "            t_len -= 1\n",
    "\n",
    "        mem[c] -= 1\n",
    "\n",
    "        if t_len == 0:\n",
    "            while mem[s[l]] < 0:\n",
    "                mem[s[l]] += 1\n",
    "                l += 1\n",
    "\n",
    "            if i - l < minR - minL:\n",
    "                minR, minL = i, l\n",
    "                print(minL, minR)\n",
    "\n",
    "            mem[s[l]] += 1\n",
    "            t_len += 1\n",
    "            l += 1\n",
    "    return '' if minR == float('inf') else s[minL:minR+1]"
   ]
  },
  {
   "cell_type": "code",
   "execution_count": 55,
   "metadata": {},
   "outputs": [
    {
     "name": "stdout",
     "output_type": "stream",
     "text": [
      "0 5\n",
      "9 12\n"
     ]
    },
    {
     "data": {
      "text/plain": [
       "'BANC'"
      ]
     },
     "execution_count": 55,
     "metadata": {},
     "output_type": "execute_result"
    }
   ],
   "source": [
    "s = \"ADOBECODEBANC\"\n",
    "t = \"ABC\"\n",
    "minWindow(s, t)"
   ]
  }
 ],
 "metadata": {
  "kernelspec": {
   "display_name": "Python 3",
   "language": "python",
   "name": "python3"
  },
  "language_info": {
   "codemirror_mode": {
    "name": "ipython",
    "version": 3
   },
   "file_extension": ".py",
   "mimetype": "text/x-python",
   "name": "python",
   "nbconvert_exporter": "python",
   "pygments_lexer": "ipython3",
   "version": "3.7.1"
  }
 },
 "nbformat": 4,
 "nbformat_minor": 2
}
