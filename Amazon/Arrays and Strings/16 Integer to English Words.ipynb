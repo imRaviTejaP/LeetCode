{
 "cells": [
  {
   "cell_type": "code",
   "execution_count": 21,
   "metadata": {},
   "outputs": [],
   "source": [
    "#Best Solution\n",
    "from math import log10\n",
    "\n",
    "def numberToWords(n):\n",
    "    a = 'One Two Three Four Five Six Seven Eight Nine Ten Eleven Twelve ' \\\n",
    "        'Thirteen Fourteen Fifteen Sixteen Seventeen Eighteen Nineteen'.split()\n",
    "    b = 'Twenty Thirty Forty Fifty Sixty Seventy Eighty Ninety'.split()\n",
    "    c = 'Hundred Thousand Million Billion Trilllion'.split()\n",
    "\n",
    "    def g(n):\n",
    "        if not n: return []\n",
    "        if 1 <= n < 20:\n",
    "            return [a[n-1]]\n",
    "        if 20 <= n < 100:\n",
    "            return [b[n//10-2]] + g(n%10)\n",
    "\n",
    "        p = int(log10(n))\n",
    "\n",
    "        i = p//3\n",
    "        d = 10**(3*i)\n",
    "        if p == 2:\n",
    "            i = 0\n",
    "            d = 100\n",
    "\n",
    "        return g(n//d) + [c[i]] + g(n%d)\n",
    "\n",
    "    if not n: return 'Zero'\n",
    "    return ' '.join(g(n))"
   ]
  },
  {
   "cell_type": "code",
   "execution_count": 22,
   "metadata": {},
   "outputs": [
    {
     "data": {
      "text/plain": [
       "'One Billion Two Hundred Thirty Four Million Five Hundred Sixty Seven Thousand Eight Hundred Ninety One'"
      ]
     },
     "execution_count": 22,
     "metadata": {},
     "output_type": "execute_result"
    }
   ],
   "source": [
    "numberToWords(1234567891)"
   ]
  },
  {
   "cell_type": "code",
   "execution_count": 23,
   "metadata": {},
   "outputs": [],
   "source": [
    "DICTS = {1: {\n",
    "                1: 'One',\n",
    "                2: 'Two',\n",
    "                3: 'Three',\n",
    "                4: 'Four',\n",
    "                5: 'Five',\n",
    "                6: 'Six',\n",
    "                7: 'Seven',\n",
    "                8: 'Eight',\n",
    "                9: 'Nine'\n",
    "            },\n",
    "         2: {\n",
    "                10: 'Ten',\n",
    "                11: 'Eleven',\n",
    "                12: 'Twelve',\n",
    "                13: 'Thirteen',\n",
    "                14: 'Fourteen',\n",
    "                15: 'Fifteen',\n",
    "                16: 'Sixteen',\n",
    "                17: 'Seventeen',\n",
    "                18: 'Eighteen',\n",
    "                19: 'Nineteen'\n",
    "            },\n",
    "        10 : {\n",
    "                2: 'Twenty',\n",
    "                3: 'Thirty',\n",
    "                4: 'Forty',\n",
    "                5: 'Fifty',\n",
    "                6: 'Sixty',\n",
    "                7: 'Seventy',\n",
    "                8: 'Eighty',\n",
    "                9: 'Ninety'\n",
    "            }\n",
    "         \n",
    "        }\n",
    "\n",
    "def numberToWords(num):\n",
    "    def one(num):\n",
    "        return DICTS[1][num]\n",
    "    def two_less_20(num):\n",
    "        return DICTS[2][num]\n",
    "    def ten(num):\n",
    "        return DICTS[10][num]\n",
    "    def two(num):\n",
    "        if not num:\n",
    "            return \"\"\n",
    "        if num < 10:\n",
    "            return one(num)\n",
    "        if num < 20:\n",
    "            return two_less_20(num)\n",
    "        else:\n",
    "            tenth = num // 10\n",
    "            rest = num % 10\n",
    "            if rest:\n",
    "                return \"{} {}\".format(ten(tenth), one(rest))\n",
    "            return ten(tenth)\n",
    "    def three(num):\n",
    "        hundred = num // 100\n",
    "        rest = num % 100\n",
    "        if hundred and rest:\n",
    "            return \"{} Hundred {}\".format(one(hundred), two(rest))\n",
    "        if hundred:\n",
    "            return \"{} Hundred\".format(one(hundred))\n",
    "        if rest:\n",
    "            return two(rest)\n",
    "\n",
    "    billion = num // 1000000000\n",
    "    million = (num % 1000000000) // 1000000\n",
    "    thousand = ((num % 1000000000) % 1000000) // 1000\n",
    "    rest = ((num % 1000000000) % 1000000) % 1000\n",
    "\n",
    "    if not num:\n",
    "        return 'Zero'\n",
    "    result = ''\n",
    "\n",
    "    if billion:\n",
    "        result = \"{} Billion\".format(three(billion))\n",
    "    if million:\n",
    "        result += \" \" if result else \"\"\n",
    "        result += \"{} Million\".format(three(million))\n",
    "    if thousand:\n",
    "        result += \" \" if result else \"\"\n",
    "        result += \"{} Thousand\".format(three(thousand))\n",
    "    if rest:\n",
    "        result += \" \" if result else \"\"\n",
    "        result += three(rest)\n",
    "    return result"
   ]
  },
  {
   "cell_type": "code",
   "execution_count": 24,
   "metadata": {},
   "outputs": [
    {
     "data": {
      "text/plain": [
       "'One Billion Two Hundred Thirty Four Million Five Hundred Sixty Seven Thousand Eight Hundred Ninety One'"
      ]
     },
     "execution_count": 24,
     "metadata": {},
     "output_type": "execute_result"
    }
   ],
   "source": [
    "numberToWords(1234567891)"
   ]
  },
  {
   "cell_type": "code",
   "execution_count": 25,
   "metadata": {},
   "outputs": [],
   "source": [
    "def numberToWords(num):\n",
    "    to19 = 'One Two Three Four Five Six Seven Eight Nine Ten Eleven Twelve ' \\\n",
    "           'Thirteen Fourteen Fifteen Sixteen Seventeen Eighteen Nineteen'.split()\n",
    "    tens = 'Twenty Thirty Forty Fifty Sixty Seventy Eighty Ninety'.split()\n",
    "    def words(n):\n",
    "        if n < 20:\n",
    "            return to19[n-1:n]\n",
    "        if n < 100:\n",
    "            return [tens[n//10-2]] + words(n%10)\n",
    "        if n < 1000:\n",
    "            return [to19[n//100-1]] + ['Hundred'] + words(n%100)\n",
    "        for p, w in enumerate(('Thousand', 'Million', 'Billion'), 1):\n",
    "            if n < 1000**(p+1):\n",
    "                return words(n//1000**p) + [w] + words(n%1000**p)\n",
    "\n",
    "    return ' '.join(words(num)) or 'Zero'"
   ]
  },
  {
   "cell_type": "code",
   "execution_count": 26,
   "metadata": {},
   "outputs": [
    {
     "data": {
      "text/plain": [
       "'One Billion Two Hundred Thirty Four Million Five Hundred Sixty Seven Thousand Eight Hundred Ninety One'"
      ]
     },
     "execution_count": 26,
     "metadata": {},
     "output_type": "execute_result"
    }
   ],
   "source": [
    "numberToWords(1234567891)"
   ]
  }
 ],
 "metadata": {
  "kernelspec": {
   "display_name": "Python 3",
   "language": "python",
   "name": "python3"
  },
  "language_info": {
   "codemirror_mode": {
    "name": "ipython",
    "version": 3
   },
   "file_extension": ".py",
   "mimetype": "text/x-python",
   "name": "python",
   "nbconvert_exporter": "python",
   "pygments_lexer": "ipython3",
   "version": "3.7.1"
  }
 },
 "nbformat": 4,
 "nbformat_minor": 2
}
