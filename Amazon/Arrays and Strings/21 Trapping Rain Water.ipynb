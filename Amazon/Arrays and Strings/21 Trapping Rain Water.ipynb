{
 "cells": [
  {
   "cell_type": "code",
   "execution_count": 6,
   "metadata": {},
   "outputs": [],
   "source": [
    "#Best solution\n",
    "def trap(height):\n",
    "    if not height:\n",
    "        return 0\n",
    "    ans = 0\n",
    "    size = len(height)\n",
    "    left_max = [0]*size\n",
    "    right_max = [0]*size\n",
    "    left_max[0] = height[0]\n",
    "    for i in range(1, size):\n",
    "        left_max[i] = max(height[i], left_max[i-1])\n",
    "\n",
    "    right_max[size - 1] = height[size - 1]\n",
    "    for i in range(size-2, -1, -1):\n",
    "        right_max[i] = max(height[i], right_max[i+1])\n",
    "\n",
    "    for i in range(1, size - 1):\n",
    "        ans += min(left_max[i], right_max[i]) - height[i]\n",
    "\n",
    "    return ans"
   ]
  },
  {
   "cell_type": "code",
   "execution_count": 7,
   "metadata": {},
   "outputs": [
    {
     "name": "stdout",
     "output_type": "stream",
     "text": [
      "6\n"
     ]
    }
   ],
   "source": [
    "height = [0,1,0,2,1,0,1,3,2,1,2,1]\n",
    "print(trap(height))"
   ]
  },
  {
   "cell_type": "code",
   "execution_count": 11,
   "metadata": {},
   "outputs": [],
   "source": [
    "def trap(height):\n",
    "    ans = 0\n",
    "    size = len(height)\n",
    "    for i in range(1, size-1):\n",
    "        max_left = 0\n",
    "        max_right = 0\n",
    "        for j in range(i+1):\n",
    "            max_left = max(max_left, height[j])\n",
    "\n",
    "        for j in range(i, size):\n",
    "            max_right = max(max_right, height[j])\n",
    "\n",
    "        ans += min(max_left, max_right) - height[i]\n",
    "\n",
    "    return ans"
   ]
  },
  {
   "cell_type": "code",
   "execution_count": 13,
   "metadata": {},
   "outputs": [
    {
     "name": "stdout",
     "output_type": "stream",
     "text": [
      "6\n"
     ]
    }
   ],
   "source": [
    "height = [0,1,0,2,1,0,1,3,2,1,2,1]\n",
    "print(trap(height))"
   ]
  },
  {
   "cell_type": "code",
   "execution_count": 14,
   "metadata": {},
   "outputs": [],
   "source": [
    "def trap(height):\n",
    "    def sideway_max(list):\n",
    "        if len(list) == 0:\n",
    "            return []\n",
    "        n = len(list)\n",
    "        side_max = [list[0]]*n\n",
    "        for i in range(1,n):\n",
    "            side_max[i] = max(side_max[i-1], list[i])\n",
    "        return side_max  \n",
    "\n",
    "\n",
    "    max_l = sideway_max(height)\n",
    "    max_r = sideway_max(height[::-1])[::-1]\n",
    "    res = 0\n",
    "    for i in range(len(height)):\n",
    "        min_side = min(max_l[i], max_r[i])\n",
    "        res = res + max(min_side - height[i], 0)\n",
    "    return res"
   ]
  },
  {
   "cell_type": "code",
   "execution_count": 15,
   "metadata": {},
   "outputs": [
    {
     "name": "stdout",
     "output_type": "stream",
     "text": [
      "6\n"
     ]
    }
   ],
   "source": [
    "height = [0,1,0,2,1,0,1,3,2,1,2,1]\n",
    "print(trap(height))"
   ]
  }
 ],
 "metadata": {
  "kernelspec": {
   "display_name": "Python 3",
   "language": "python",
   "name": "python3"
  },
  "language_info": {
   "codemirror_mode": {
    "name": "ipython",
    "version": 3
   },
   "file_extension": ".py",
   "mimetype": "text/x-python",
   "name": "python",
   "nbconvert_exporter": "python",
   "pygments_lexer": "ipython3",
   "version": "3.7.1"
  }
 },
 "nbformat": 4,
 "nbformat_minor": 2
}
