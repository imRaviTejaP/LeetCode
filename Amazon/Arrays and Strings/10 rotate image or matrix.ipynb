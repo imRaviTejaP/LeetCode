{
 "cells": [
  {
   "cell_type": "code",
   "execution_count": 30,
   "metadata": {},
   "outputs": [],
   "source": [
    "# Best Solution (similar to mine)\n",
    "def rotate(matrix):\n",
    "    matrix.reverse()\n",
    "    for i in range(len(matrix)):\n",
    "        for j in range(i):\n",
    "            matrix[i][j], matrix[j][i] = matrix[j][i], matrix[i][j]\n",
    "\n",
    "    return matrix"
   ]
  },
  {
   "cell_type": "code",
   "execution_count": 31,
   "metadata": {},
   "outputs": [
    {
     "name": "stdout",
     "output_type": "stream",
     "text": [
      "[[7, 4, 1], [8, 5, 2], [9, 6, 3]]\n"
     ]
    }
   ],
   "source": [
    "matrix = [\n",
    "  [1,2,3],\n",
    "  [4,5,6],\n",
    "  [7,8,9]\n",
    "]\n",
    "print(rotate(matrix))"
   ]
  },
  {
   "cell_type": "code",
   "execution_count": 32,
   "metadata": {},
   "outputs": [],
   "source": [
    "# Optimum solution 2\n",
    "def rotate(matrix):\n",
    "    matrix[:] = zip(*matrix[::-1])\n",
    "    return matrix"
   ]
  },
  {
   "cell_type": "code",
   "execution_count": 33,
   "metadata": {},
   "outputs": [
    {
     "name": "stdout",
     "output_type": "stream",
     "text": [
      "[(7, 4, 1), (8, 5, 2), (9, 6, 3)]\n"
     ]
    }
   ],
   "source": [
    "matrix = [\n",
    "  [1,2,3],\n",
    "  [4,5,6],\n",
    "  [7,8,9]\n",
    "]\n",
    "print(rotate(matrix))"
   ]
  },
  {
   "cell_type": "code",
   "execution_count": 34,
   "metadata": {},
   "outputs": [],
   "source": [
    "def rotate(matrix):\n",
    "    n = len(matrix)\n",
    "    for i in range(n//2):\n",
    "        temp = matrix[i]\n",
    "        matrix[i] = matrix[n-1-i]\n",
    "        matrix[n-1-i] = temp\n",
    "\n",
    "    for i in range(n):\n",
    "        for j in range(i, n):\n",
    "            if i!=j:            \n",
    "                temp = matrix[i][j]\n",
    "                matrix[i][j] = matrix[j][i]\n",
    "                matrix[j][i] = temp\n",
    "    return matrix"
   ]
  },
  {
   "cell_type": "code",
   "execution_count": 35,
   "metadata": {},
   "outputs": [
    {
     "name": "stdout",
     "output_type": "stream",
     "text": [
      "[[7, 4, 1], [8, 5, 2], [9, 6, 3]]\n"
     ]
    }
   ],
   "source": [
    "matrix = [\n",
    "  [1,2,3],\n",
    "  [4,5,6],\n",
    "  [7,8,9]\n",
    "]\n",
    "print(rotate(matrix))"
   ]
  }
 ],
 "metadata": {
  "kernelspec": {
   "display_name": "Python 3",
   "language": "python",
   "name": "python3"
  },
  "language_info": {
   "codemirror_mode": {
    "name": "ipython",
    "version": 3
   },
   "file_extension": ".py",
   "mimetype": "text/x-python",
   "name": "python",
   "nbconvert_exporter": "python",
   "pygments_lexer": "ipython3",
   "version": "3.7.1"
  }
 },
 "nbformat": 4,
 "nbformat_minor": 2
}
