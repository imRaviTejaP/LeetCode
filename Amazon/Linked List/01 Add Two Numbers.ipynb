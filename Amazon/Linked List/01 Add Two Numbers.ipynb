{
 "cells": [
  {
   "cell_type": "code",
   "execution_count": 1,
   "metadata": {},
   "outputs": [
    {
     "data": {
      "text/plain": [
       "(5, 1)"
      ]
     },
     "execution_count": 1,
     "metadata": {},
     "output_type": "execute_result"
    }
   ],
   "source": [
    "divmod(16,3)"
   ]
  },
  {
   "cell_type": "code",
   "execution_count": 8,
   "metadata": {},
   "outputs": [],
   "source": [
    "class ListNode:\n",
    "    def __init__(self, x):\n",
    "        self.val = x\n",
    "        self.next = None\n",
    "\n",
    "def addTwoNumbers(l1, l2):\n",
    "    carry = 0\n",
    "    root = n = ListNode(0)\n",
    "    while l1 or l2 or carry:\n",
    "        v1 = v2 = 0\n",
    "        if l1:\n",
    "            v1 = l1.val\n",
    "            l1 = l1.next\n",
    "        if l2:\n",
    "            v2 = l2.val\n",
    "            l2 = l2.next\n",
    "        carry, val = divmod(v1+v2+carry, 10)\n",
    "        n.next = ListNode(val)\n",
    "        n = n.next\n",
    "    return root.next"
   ]
  },
  {
   "cell_type": "code",
   "execution_count": 9,
   "metadata": {},
   "outputs": [
    {
     "name": "stdout",
     "output_type": "stream",
     "text": [
      "7 0 8\n"
     ]
    }
   ],
   "source": [
    "l1 = ListNode(2)\n",
    "l1.next = ListNode(4)\n",
    "l1.next.next = ListNode(3)\n",
    "\n",
    "l2 = ListNode(5)\n",
    "l2.next = ListNode(6)\n",
    "l2.next.next = ListNode(4)\n",
    "\n",
    "l = addTwoNumbers(l1, l2)\n",
    "print(l.val, l.next.val, l.next.next.val)"
   ]
  }
 ],
 "metadata": {
  "kernelspec": {
   "display_name": "Python 3",
   "language": "python",
   "name": "python3"
  },
  "language_info": {
   "codemirror_mode": {
    "name": "ipython",
    "version": 3
   },
   "file_extension": ".py",
   "mimetype": "text/x-python",
   "name": "python",
   "nbconvert_exporter": "python",
   "pygments_lexer": "ipython3",
   "version": "3.7.1"
  }
 },
 "nbformat": 4,
 "nbformat_minor": 2
}
