{
 "cells": [
  {
   "cell_type": "code",
   "execution_count": 2,
   "metadata": {},
   "outputs": [],
   "source": [
    "# Definition for a binary tree node.\n",
    "class TreeNode:\n",
    "    def __init__(self, x):\n",
    "        self.val = x\n",
    "        self.left = None\n",
    "        self.right = None       "
   ]
  },
  {
   "cell_type": "code",
   "execution_count": 3,
   "metadata": {},
   "outputs": [],
   "source": [
    "def isSymmetric(root):\n",
    "    if root:\n",
    "        return isMirror(root.left, root.right) \n",
    "    else:\n",
    "        return True\n",
    "        \n",
    "def isMirror(left, right):\n",
    "    if left is None and right is None:\n",
    "        return True\n",
    "    if left is None or right is None:\n",
    "        return False\n",
    "\n",
    "    if left.val == right.val:\n",
    "        outPair = isMirror(left.left, right.right)\n",
    "        inPair = isMirror(left.right, right.left)\n",
    "        return outPair and inPair\n",
    "    else:\n",
    "        return False"
   ]
  },
  {
   "cell_type": "code",
   "execution_count": null,
   "metadata": {},
   "outputs": [],
   "source": []
  },
  {
   "cell_type": "code",
   "execution_count": 6,
   "metadata": {},
   "outputs": [
    {
     "data": {
      "text/plain": [
       "False"
      ]
     },
     "execution_count": 6,
     "metadata": {},
     "output_type": "execute_result"
    }
   ],
   "source": [
    "root = TreeNode(1)\n",
    "root.left = TreeNode(2)\n",
    "root.right = TreeNode(2)\n",
    "root.left.left = TreeNode(3)\n",
    "root.left.right = TreeNode(4)\n",
    "root.right.left = TreeNode(4)\n",
    "root.right.right = TreeNode(1)\n",
    "isSymmetric(root)"
   ]
  },
  {
   "cell_type": "code",
   "execution_count": null,
   "metadata": {},
   "outputs": [],
   "source": [
    "def isSymmetric(root):\n",
    "    "
   ]
  }
 ],
 "metadata": {
  "kernelspec": {
   "display_name": "Python 3",
   "language": "python",
   "name": "python3"
  },
  "language_info": {
   "codemirror_mode": {
    "name": "ipython",
    "version": 3
   },
   "file_extension": ".py",
   "mimetype": "text/x-python",
   "name": "python",
   "nbconvert_exporter": "python",
   "pygments_lexer": "ipython3",
   "version": "3.7.1"
  }
 },
 "nbformat": 4,
 "nbformat_minor": 2
}
