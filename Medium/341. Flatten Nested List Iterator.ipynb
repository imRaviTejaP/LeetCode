{
 "cells": [
  {
   "cell_type": "code",
   "execution_count": 53,
   "metadata": {},
   "outputs": [],
   "source": [
    "def flattenedList(L):\n",
    "    out = []\n",
    "    \n",
    "    def flat(L):\n",
    "        for i in L:\n",
    "            if type(i) == int:\n",
    "                out.append(i)\n",
    "            else:\n",
    "                flat(i)\n",
    "\n",
    "    flat(L)\n",
    "    return out"
   ]
  },
  {
   "cell_type": "code",
   "execution_count": 54,
   "metadata": {},
   "outputs": [
    {
     "name": "stdout",
     "output_type": "stream",
     "text": [
      "[1, 1, 2, 1, 1]\n",
      "[1, 4, 6]\n"
     ]
    }
   ],
   "source": [
    "a = [[1,1],2,[1,1]]\n",
    "b = [1,[4,[6]]]\n",
    "print(flattenedList(a))\n",
    "print(flattenedList(b))"
   ]
  }
 ],
 "metadata": {
  "kernelspec": {
   "display_name": "Python 3",
   "language": "python",
   "name": "python3"
  },
  "language_info": {
   "codemirror_mode": {
    "name": "ipython",
    "version": 3
   },
   "file_extension": ".py",
   "mimetype": "text/x-python",
   "name": "python",
   "nbconvert_exporter": "python",
   "pygments_lexer": "ipython3",
   "version": "3.7.1"
  }
 },
 "nbformat": 4,
 "nbformat_minor": 2
}
